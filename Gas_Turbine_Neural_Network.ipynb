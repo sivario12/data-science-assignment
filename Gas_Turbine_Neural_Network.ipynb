{
 "cells": [
  {
   "cell_type": "code",
   "execution_count": 1,
   "id": "f193fde7",
   "metadata": {},
   "outputs": [],
   "source": [
    "#pip install tensorflow"
   ]
  },
  {
   "cell_type": "code",
   "execution_count": 2,
   "id": "6ed06c28",
   "metadata": {},
   "outputs": [],
   "source": [
    "import tensorflow as tf\n",
    "import numpy as np\n",
    "import pandas as pd\n",
    "import warnings \n",
    "warnings.filterwarnings('ignore')"
   ]
  },
  {
   "cell_type": "code",
   "execution_count": 3,
   "id": "d743c500",
   "metadata": {},
   "outputs": [
    {
     "data": {
      "text/plain": [
       "'2.11.0'"
      ]
     },
     "execution_count": 3,
     "metadata": {},
     "output_type": "execute_result"
    }
   ],
   "source": [
    "tf.__version__"
   ]
  },
  {
   "cell_type": "code",
   "execution_count": 4,
   "id": "594a0ced",
   "metadata": {},
   "outputs": [
    {
     "data": {
      "text/html": [
       "<div>\n",
       "<style scoped>\n",
       "    .dataframe tbody tr th:only-of-type {\n",
       "        vertical-align: middle;\n",
       "    }\n",
       "\n",
       "    .dataframe tbody tr th {\n",
       "        vertical-align: top;\n",
       "    }\n",
       "\n",
       "    .dataframe thead th {\n",
       "        text-align: right;\n",
       "    }\n",
       "</style>\n",
       "<table border=\"1\" class=\"dataframe\">\n",
       "  <thead>\n",
       "    <tr style=\"text-align: right;\">\n",
       "      <th></th>\n",
       "      <th>AT</th>\n",
       "      <th>AP</th>\n",
       "      <th>AH</th>\n",
       "      <th>AFDP</th>\n",
       "      <th>GTEP</th>\n",
       "      <th>TIT</th>\n",
       "      <th>TAT</th>\n",
       "      <th>TEY</th>\n",
       "      <th>CDP</th>\n",
       "      <th>CO</th>\n",
       "      <th>NOX</th>\n",
       "    </tr>\n",
       "  </thead>\n",
       "  <tbody>\n",
       "    <tr>\n",
       "      <th>0</th>\n",
       "      <td>6.8594</td>\n",
       "      <td>1007.9</td>\n",
       "      <td>96.799</td>\n",
       "      <td>3.5000</td>\n",
       "      <td>19.663</td>\n",
       "      <td>1059.2</td>\n",
       "      <td>550.00</td>\n",
       "      <td>114.70</td>\n",
       "      <td>10.605</td>\n",
       "      <td>3.1547</td>\n",
       "      <td>82.722</td>\n",
       "    </tr>\n",
       "    <tr>\n",
       "      <th>1</th>\n",
       "      <td>6.7850</td>\n",
       "      <td>1008.4</td>\n",
       "      <td>97.118</td>\n",
       "      <td>3.4998</td>\n",
       "      <td>19.728</td>\n",
       "      <td>1059.3</td>\n",
       "      <td>550.00</td>\n",
       "      <td>114.72</td>\n",
       "      <td>10.598</td>\n",
       "      <td>3.2363</td>\n",
       "      <td>82.776</td>\n",
       "    </tr>\n",
       "    <tr>\n",
       "      <th>2</th>\n",
       "      <td>6.8977</td>\n",
       "      <td>1008.8</td>\n",
       "      <td>95.939</td>\n",
       "      <td>3.4824</td>\n",
       "      <td>19.779</td>\n",
       "      <td>1059.4</td>\n",
       "      <td>549.87</td>\n",
       "      <td>114.71</td>\n",
       "      <td>10.601</td>\n",
       "      <td>3.2012</td>\n",
       "      <td>82.468</td>\n",
       "    </tr>\n",
       "    <tr>\n",
       "      <th>3</th>\n",
       "      <td>7.0569</td>\n",
       "      <td>1009.2</td>\n",
       "      <td>95.249</td>\n",
       "      <td>3.4805</td>\n",
       "      <td>19.792</td>\n",
       "      <td>1059.6</td>\n",
       "      <td>549.99</td>\n",
       "      <td>114.72</td>\n",
       "      <td>10.606</td>\n",
       "      <td>3.1923</td>\n",
       "      <td>82.670</td>\n",
       "    </tr>\n",
       "    <tr>\n",
       "      <th>4</th>\n",
       "      <td>7.3978</td>\n",
       "      <td>1009.7</td>\n",
       "      <td>95.150</td>\n",
       "      <td>3.4976</td>\n",
       "      <td>19.765</td>\n",
       "      <td>1059.7</td>\n",
       "      <td>549.98</td>\n",
       "      <td>114.72</td>\n",
       "      <td>10.612</td>\n",
       "      <td>3.2484</td>\n",
       "      <td>82.311</td>\n",
       "    </tr>\n",
       "    <tr>\n",
       "      <th>...</th>\n",
       "      <td>...</td>\n",
       "      <td>...</td>\n",
       "      <td>...</td>\n",
       "      <td>...</td>\n",
       "      <td>...</td>\n",
       "      <td>...</td>\n",
       "      <td>...</td>\n",
       "      <td>...</td>\n",
       "      <td>...</td>\n",
       "      <td>...</td>\n",
       "      <td>...</td>\n",
       "    </tr>\n",
       "    <tr>\n",
       "      <th>15034</th>\n",
       "      <td>9.0301</td>\n",
       "      <td>1005.6</td>\n",
       "      <td>98.460</td>\n",
       "      <td>3.5421</td>\n",
       "      <td>19.164</td>\n",
       "      <td>1049.7</td>\n",
       "      <td>546.21</td>\n",
       "      <td>111.61</td>\n",
       "      <td>10.400</td>\n",
       "      <td>4.5186</td>\n",
       "      <td>79.559</td>\n",
       "    </tr>\n",
       "    <tr>\n",
       "      <th>15035</th>\n",
       "      <td>7.8879</td>\n",
       "      <td>1005.9</td>\n",
       "      <td>99.093</td>\n",
       "      <td>3.5059</td>\n",
       "      <td>19.414</td>\n",
       "      <td>1046.3</td>\n",
       "      <td>543.22</td>\n",
       "      <td>111.78</td>\n",
       "      <td>10.433</td>\n",
       "      <td>4.8470</td>\n",
       "      <td>79.917</td>\n",
       "    </tr>\n",
       "    <tr>\n",
       "      <th>15036</th>\n",
       "      <td>7.2647</td>\n",
       "      <td>1006.3</td>\n",
       "      <td>99.496</td>\n",
       "      <td>3.4770</td>\n",
       "      <td>19.530</td>\n",
       "      <td>1037.7</td>\n",
       "      <td>537.32</td>\n",
       "      <td>110.19</td>\n",
       "      <td>10.483</td>\n",
       "      <td>7.9632</td>\n",
       "      <td>90.912</td>\n",
       "    </tr>\n",
       "    <tr>\n",
       "      <th>15037</th>\n",
       "      <td>7.0060</td>\n",
       "      <td>1006.8</td>\n",
       "      <td>99.008</td>\n",
       "      <td>3.4486</td>\n",
       "      <td>19.377</td>\n",
       "      <td>1043.2</td>\n",
       "      <td>541.24</td>\n",
       "      <td>110.74</td>\n",
       "      <td>10.533</td>\n",
       "      <td>6.2494</td>\n",
       "      <td>93.227</td>\n",
       "    </tr>\n",
       "    <tr>\n",
       "      <th>15038</th>\n",
       "      <td>6.9279</td>\n",
       "      <td>1007.2</td>\n",
       "      <td>97.533</td>\n",
       "      <td>3.4275</td>\n",
       "      <td>19.306</td>\n",
       "      <td>1049.9</td>\n",
       "      <td>545.85</td>\n",
       "      <td>111.58</td>\n",
       "      <td>10.583</td>\n",
       "      <td>4.9816</td>\n",
       "      <td>92.498</td>\n",
       "    </tr>\n",
       "  </tbody>\n",
       "</table>\n",
       "<p>15039 rows × 11 columns</p>\n",
       "</div>"
      ],
      "text/plain": [
       "           AT      AP      AH    AFDP    GTEP     TIT     TAT     TEY     CDP  \\\n",
       "0      6.8594  1007.9  96.799  3.5000  19.663  1059.2  550.00  114.70  10.605   \n",
       "1      6.7850  1008.4  97.118  3.4998  19.728  1059.3  550.00  114.72  10.598   \n",
       "2      6.8977  1008.8  95.939  3.4824  19.779  1059.4  549.87  114.71  10.601   \n",
       "3      7.0569  1009.2  95.249  3.4805  19.792  1059.6  549.99  114.72  10.606   \n",
       "4      7.3978  1009.7  95.150  3.4976  19.765  1059.7  549.98  114.72  10.612   \n",
       "...       ...     ...     ...     ...     ...     ...     ...     ...     ...   \n",
       "15034  9.0301  1005.6  98.460  3.5421  19.164  1049.7  546.21  111.61  10.400   \n",
       "15035  7.8879  1005.9  99.093  3.5059  19.414  1046.3  543.22  111.78  10.433   \n",
       "15036  7.2647  1006.3  99.496  3.4770  19.530  1037.7  537.32  110.19  10.483   \n",
       "15037  7.0060  1006.8  99.008  3.4486  19.377  1043.2  541.24  110.74  10.533   \n",
       "15038  6.9279  1007.2  97.533  3.4275  19.306  1049.9  545.85  111.58  10.583   \n",
       "\n",
       "           CO     NOX  \n",
       "0      3.1547  82.722  \n",
       "1      3.2363  82.776  \n",
       "2      3.2012  82.468  \n",
       "3      3.1923  82.670  \n",
       "4      3.2484  82.311  \n",
       "...       ...     ...  \n",
       "15034  4.5186  79.559  \n",
       "15035  4.8470  79.917  \n",
       "15036  7.9632  90.912  \n",
       "15037  6.2494  93.227  \n",
       "15038  4.9816  92.498  \n",
       "\n",
       "[15039 rows x 11 columns]"
      ]
     },
     "execution_count": 4,
     "metadata": {},
     "output_type": "execute_result"
    }
   ],
   "source": [
    "gt = pd.read_csv(\"gas_turbines.csv\")\n",
    "gt"
   ]
  },
  {
   "cell_type": "code",
   "execution_count": 5,
   "id": "ce3c30a2",
   "metadata": {},
   "outputs": [
    {
     "data": {
      "text/plain": [
       "(15039, 11)"
      ]
     },
     "execution_count": 5,
     "metadata": {},
     "output_type": "execute_result"
    }
   ],
   "source": [
    "gt.shape"
   ]
  },
  {
   "cell_type": "code",
   "execution_count": null,
   "id": "2566976c",
   "metadata": {},
   "outputs": [],
   "source": []
  },
  {
   "cell_type": "code",
   "execution_count": 6,
   "id": "3d219c94",
   "metadata": {},
   "outputs": [
    {
     "data": {
      "text/plain": [
       "Index(['AT', 'AP', 'AH', 'AFDP', 'GTEP', 'TIT', 'TAT', 'TEY', 'CDP', 'CO',\n",
       "       'NOX'],\n",
       "      dtype='object')"
      ]
     },
     "execution_count": 6,
     "metadata": {},
     "output_type": "execute_result"
    }
   ],
   "source": [
    "gt.columns"
   ]
  },
  {
   "cell_type": "code",
   "execution_count": 7,
   "id": "69f6b6e7",
   "metadata": {},
   "outputs": [],
   "source": [
    "#df.loc[:,['Maths Score','Name','Sr.no']]\n",
    "gt=gt.loc[:,['AT', 'AP', 'AH', 'AFDP', 'GTEP', 'TIT', 'TAT', 'CDP', 'CO',\n",
    "       'NOX','TEY']]"
   ]
  },
  {
   "cell_type": "code",
   "execution_count": 8,
   "id": "e93d21c9",
   "metadata": {},
   "outputs": [
    {
     "data": {
      "text/html": [
       "<div>\n",
       "<style scoped>\n",
       "    .dataframe tbody tr th:only-of-type {\n",
       "        vertical-align: middle;\n",
       "    }\n",
       "\n",
       "    .dataframe tbody tr th {\n",
       "        vertical-align: top;\n",
       "    }\n",
       "\n",
       "    .dataframe thead th {\n",
       "        text-align: right;\n",
       "    }\n",
       "</style>\n",
       "<table border=\"1\" class=\"dataframe\">\n",
       "  <thead>\n",
       "    <tr style=\"text-align: right;\">\n",
       "      <th></th>\n",
       "      <th>AT</th>\n",
       "      <th>AP</th>\n",
       "      <th>AH</th>\n",
       "      <th>AFDP</th>\n",
       "      <th>GTEP</th>\n",
       "      <th>TIT</th>\n",
       "      <th>TAT</th>\n",
       "      <th>CDP</th>\n",
       "      <th>CO</th>\n",
       "      <th>NOX</th>\n",
       "      <th>TEY</th>\n",
       "    </tr>\n",
       "  </thead>\n",
       "  <tbody>\n",
       "    <tr>\n",
       "      <th>0</th>\n",
       "      <td>6.8594</td>\n",
       "      <td>1007.9</td>\n",
       "      <td>96.799</td>\n",
       "      <td>3.5000</td>\n",
       "      <td>19.663</td>\n",
       "      <td>1059.2</td>\n",
       "      <td>550.00</td>\n",
       "      <td>10.605</td>\n",
       "      <td>3.1547</td>\n",
       "      <td>82.722</td>\n",
       "      <td>114.70</td>\n",
       "    </tr>\n",
       "    <tr>\n",
       "      <th>1</th>\n",
       "      <td>6.7850</td>\n",
       "      <td>1008.4</td>\n",
       "      <td>97.118</td>\n",
       "      <td>3.4998</td>\n",
       "      <td>19.728</td>\n",
       "      <td>1059.3</td>\n",
       "      <td>550.00</td>\n",
       "      <td>10.598</td>\n",
       "      <td>3.2363</td>\n",
       "      <td>82.776</td>\n",
       "      <td>114.72</td>\n",
       "    </tr>\n",
       "    <tr>\n",
       "      <th>2</th>\n",
       "      <td>6.8977</td>\n",
       "      <td>1008.8</td>\n",
       "      <td>95.939</td>\n",
       "      <td>3.4824</td>\n",
       "      <td>19.779</td>\n",
       "      <td>1059.4</td>\n",
       "      <td>549.87</td>\n",
       "      <td>10.601</td>\n",
       "      <td>3.2012</td>\n",
       "      <td>82.468</td>\n",
       "      <td>114.71</td>\n",
       "    </tr>\n",
       "    <tr>\n",
       "      <th>3</th>\n",
       "      <td>7.0569</td>\n",
       "      <td>1009.2</td>\n",
       "      <td>95.249</td>\n",
       "      <td>3.4805</td>\n",
       "      <td>19.792</td>\n",
       "      <td>1059.6</td>\n",
       "      <td>549.99</td>\n",
       "      <td>10.606</td>\n",
       "      <td>3.1923</td>\n",
       "      <td>82.670</td>\n",
       "      <td>114.72</td>\n",
       "    </tr>\n",
       "    <tr>\n",
       "      <th>4</th>\n",
       "      <td>7.3978</td>\n",
       "      <td>1009.7</td>\n",
       "      <td>95.150</td>\n",
       "      <td>3.4976</td>\n",
       "      <td>19.765</td>\n",
       "      <td>1059.7</td>\n",
       "      <td>549.98</td>\n",
       "      <td>10.612</td>\n",
       "      <td>3.2484</td>\n",
       "      <td>82.311</td>\n",
       "      <td>114.72</td>\n",
       "    </tr>\n",
       "    <tr>\n",
       "      <th>...</th>\n",
       "      <td>...</td>\n",
       "      <td>...</td>\n",
       "      <td>...</td>\n",
       "      <td>...</td>\n",
       "      <td>...</td>\n",
       "      <td>...</td>\n",
       "      <td>...</td>\n",
       "      <td>...</td>\n",
       "      <td>...</td>\n",
       "      <td>...</td>\n",
       "      <td>...</td>\n",
       "    </tr>\n",
       "    <tr>\n",
       "      <th>15034</th>\n",
       "      <td>9.0301</td>\n",
       "      <td>1005.6</td>\n",
       "      <td>98.460</td>\n",
       "      <td>3.5421</td>\n",
       "      <td>19.164</td>\n",
       "      <td>1049.7</td>\n",
       "      <td>546.21</td>\n",
       "      <td>10.400</td>\n",
       "      <td>4.5186</td>\n",
       "      <td>79.559</td>\n",
       "      <td>111.61</td>\n",
       "    </tr>\n",
       "    <tr>\n",
       "      <th>15035</th>\n",
       "      <td>7.8879</td>\n",
       "      <td>1005.9</td>\n",
       "      <td>99.093</td>\n",
       "      <td>3.5059</td>\n",
       "      <td>19.414</td>\n",
       "      <td>1046.3</td>\n",
       "      <td>543.22</td>\n",
       "      <td>10.433</td>\n",
       "      <td>4.8470</td>\n",
       "      <td>79.917</td>\n",
       "      <td>111.78</td>\n",
       "    </tr>\n",
       "    <tr>\n",
       "      <th>15036</th>\n",
       "      <td>7.2647</td>\n",
       "      <td>1006.3</td>\n",
       "      <td>99.496</td>\n",
       "      <td>3.4770</td>\n",
       "      <td>19.530</td>\n",
       "      <td>1037.7</td>\n",
       "      <td>537.32</td>\n",
       "      <td>10.483</td>\n",
       "      <td>7.9632</td>\n",
       "      <td>90.912</td>\n",
       "      <td>110.19</td>\n",
       "    </tr>\n",
       "    <tr>\n",
       "      <th>15037</th>\n",
       "      <td>7.0060</td>\n",
       "      <td>1006.8</td>\n",
       "      <td>99.008</td>\n",
       "      <td>3.4486</td>\n",
       "      <td>19.377</td>\n",
       "      <td>1043.2</td>\n",
       "      <td>541.24</td>\n",
       "      <td>10.533</td>\n",
       "      <td>6.2494</td>\n",
       "      <td>93.227</td>\n",
       "      <td>110.74</td>\n",
       "    </tr>\n",
       "    <tr>\n",
       "      <th>15038</th>\n",
       "      <td>6.9279</td>\n",
       "      <td>1007.2</td>\n",
       "      <td>97.533</td>\n",
       "      <td>3.4275</td>\n",
       "      <td>19.306</td>\n",
       "      <td>1049.9</td>\n",
       "      <td>545.85</td>\n",
       "      <td>10.583</td>\n",
       "      <td>4.9816</td>\n",
       "      <td>92.498</td>\n",
       "      <td>111.58</td>\n",
       "    </tr>\n",
       "  </tbody>\n",
       "</table>\n",
       "<p>15039 rows × 11 columns</p>\n",
       "</div>"
      ],
      "text/plain": [
       "           AT      AP      AH    AFDP    GTEP     TIT     TAT     CDP      CO  \\\n",
       "0      6.8594  1007.9  96.799  3.5000  19.663  1059.2  550.00  10.605  3.1547   \n",
       "1      6.7850  1008.4  97.118  3.4998  19.728  1059.3  550.00  10.598  3.2363   \n",
       "2      6.8977  1008.8  95.939  3.4824  19.779  1059.4  549.87  10.601  3.2012   \n",
       "3      7.0569  1009.2  95.249  3.4805  19.792  1059.6  549.99  10.606  3.1923   \n",
       "4      7.3978  1009.7  95.150  3.4976  19.765  1059.7  549.98  10.612  3.2484   \n",
       "...       ...     ...     ...     ...     ...     ...     ...     ...     ...   \n",
       "15034  9.0301  1005.6  98.460  3.5421  19.164  1049.7  546.21  10.400  4.5186   \n",
       "15035  7.8879  1005.9  99.093  3.5059  19.414  1046.3  543.22  10.433  4.8470   \n",
       "15036  7.2647  1006.3  99.496  3.4770  19.530  1037.7  537.32  10.483  7.9632   \n",
       "15037  7.0060  1006.8  99.008  3.4486  19.377  1043.2  541.24  10.533  6.2494   \n",
       "15038  6.9279  1007.2  97.533  3.4275  19.306  1049.9  545.85  10.583  4.9816   \n",
       "\n",
       "          NOX     TEY  \n",
       "0      82.722  114.70  \n",
       "1      82.776  114.72  \n",
       "2      82.468  114.71  \n",
       "3      82.670  114.72  \n",
       "4      82.311  114.72  \n",
       "...       ...     ...  \n",
       "15034  79.559  111.61  \n",
       "15035  79.917  111.78  \n",
       "15036  90.912  110.19  \n",
       "15037  93.227  110.74  \n",
       "15038  92.498  111.58  \n",
       "\n",
       "[15039 rows x 11 columns]"
      ]
     },
     "execution_count": 8,
     "metadata": {},
     "output_type": "execute_result"
    }
   ],
   "source": [
    "gt"
   ]
  },
  {
   "cell_type": "code",
   "execution_count": 9,
   "id": "af875093",
   "metadata": {},
   "outputs": [
    {
     "data": {
      "text/html": [
       "<div>\n",
       "<style scoped>\n",
       "    .dataframe tbody tr th:only-of-type {\n",
       "        vertical-align: middle;\n",
       "    }\n",
       "\n",
       "    .dataframe tbody tr th {\n",
       "        vertical-align: top;\n",
       "    }\n",
       "\n",
       "    .dataframe thead th {\n",
       "        text-align: right;\n",
       "    }\n",
       "</style>\n",
       "<table border=\"1\" class=\"dataframe\">\n",
       "  <thead>\n",
       "    <tr style=\"text-align: right;\">\n",
       "      <th></th>\n",
       "      <th>AT</th>\n",
       "      <th>AP</th>\n",
       "      <th>AH</th>\n",
       "      <th>AFDP</th>\n",
       "      <th>GTEP</th>\n",
       "      <th>TIT</th>\n",
       "      <th>TAT</th>\n",
       "      <th>CDP</th>\n",
       "      <th>CO</th>\n",
       "      <th>NOX</th>\n",
       "    </tr>\n",
       "  </thead>\n",
       "  <tbody>\n",
       "    <tr>\n",
       "      <th>0</th>\n",
       "      <td>6.8594</td>\n",
       "      <td>1007.9</td>\n",
       "      <td>96.799</td>\n",
       "      <td>3.5000</td>\n",
       "      <td>19.663</td>\n",
       "      <td>1059.2</td>\n",
       "      <td>550.00</td>\n",
       "      <td>10.605</td>\n",
       "      <td>3.1547</td>\n",
       "      <td>82.722</td>\n",
       "    </tr>\n",
       "    <tr>\n",
       "      <th>1</th>\n",
       "      <td>6.7850</td>\n",
       "      <td>1008.4</td>\n",
       "      <td>97.118</td>\n",
       "      <td>3.4998</td>\n",
       "      <td>19.728</td>\n",
       "      <td>1059.3</td>\n",
       "      <td>550.00</td>\n",
       "      <td>10.598</td>\n",
       "      <td>3.2363</td>\n",
       "      <td>82.776</td>\n",
       "    </tr>\n",
       "    <tr>\n",
       "      <th>2</th>\n",
       "      <td>6.8977</td>\n",
       "      <td>1008.8</td>\n",
       "      <td>95.939</td>\n",
       "      <td>3.4824</td>\n",
       "      <td>19.779</td>\n",
       "      <td>1059.4</td>\n",
       "      <td>549.87</td>\n",
       "      <td>10.601</td>\n",
       "      <td>3.2012</td>\n",
       "      <td>82.468</td>\n",
       "    </tr>\n",
       "    <tr>\n",
       "      <th>3</th>\n",
       "      <td>7.0569</td>\n",
       "      <td>1009.2</td>\n",
       "      <td>95.249</td>\n",
       "      <td>3.4805</td>\n",
       "      <td>19.792</td>\n",
       "      <td>1059.6</td>\n",
       "      <td>549.99</td>\n",
       "      <td>10.606</td>\n",
       "      <td>3.1923</td>\n",
       "      <td>82.670</td>\n",
       "    </tr>\n",
       "    <tr>\n",
       "      <th>4</th>\n",
       "      <td>7.3978</td>\n",
       "      <td>1009.7</td>\n",
       "      <td>95.150</td>\n",
       "      <td>3.4976</td>\n",
       "      <td>19.765</td>\n",
       "      <td>1059.7</td>\n",
       "      <td>549.98</td>\n",
       "      <td>10.612</td>\n",
       "      <td>3.2484</td>\n",
       "      <td>82.311</td>\n",
       "    </tr>\n",
       "    <tr>\n",
       "      <th>...</th>\n",
       "      <td>...</td>\n",
       "      <td>...</td>\n",
       "      <td>...</td>\n",
       "      <td>...</td>\n",
       "      <td>...</td>\n",
       "      <td>...</td>\n",
       "      <td>...</td>\n",
       "      <td>...</td>\n",
       "      <td>...</td>\n",
       "      <td>...</td>\n",
       "    </tr>\n",
       "    <tr>\n",
       "      <th>15034</th>\n",
       "      <td>9.0301</td>\n",
       "      <td>1005.6</td>\n",
       "      <td>98.460</td>\n",
       "      <td>3.5421</td>\n",
       "      <td>19.164</td>\n",
       "      <td>1049.7</td>\n",
       "      <td>546.21</td>\n",
       "      <td>10.400</td>\n",
       "      <td>4.5186</td>\n",
       "      <td>79.559</td>\n",
       "    </tr>\n",
       "    <tr>\n",
       "      <th>15035</th>\n",
       "      <td>7.8879</td>\n",
       "      <td>1005.9</td>\n",
       "      <td>99.093</td>\n",
       "      <td>3.5059</td>\n",
       "      <td>19.414</td>\n",
       "      <td>1046.3</td>\n",
       "      <td>543.22</td>\n",
       "      <td>10.433</td>\n",
       "      <td>4.8470</td>\n",
       "      <td>79.917</td>\n",
       "    </tr>\n",
       "    <tr>\n",
       "      <th>15036</th>\n",
       "      <td>7.2647</td>\n",
       "      <td>1006.3</td>\n",
       "      <td>99.496</td>\n",
       "      <td>3.4770</td>\n",
       "      <td>19.530</td>\n",
       "      <td>1037.7</td>\n",
       "      <td>537.32</td>\n",
       "      <td>10.483</td>\n",
       "      <td>7.9632</td>\n",
       "      <td>90.912</td>\n",
       "    </tr>\n",
       "    <tr>\n",
       "      <th>15037</th>\n",
       "      <td>7.0060</td>\n",
       "      <td>1006.8</td>\n",
       "      <td>99.008</td>\n",
       "      <td>3.4486</td>\n",
       "      <td>19.377</td>\n",
       "      <td>1043.2</td>\n",
       "      <td>541.24</td>\n",
       "      <td>10.533</td>\n",
       "      <td>6.2494</td>\n",
       "      <td>93.227</td>\n",
       "    </tr>\n",
       "    <tr>\n",
       "      <th>15038</th>\n",
       "      <td>6.9279</td>\n",
       "      <td>1007.2</td>\n",
       "      <td>97.533</td>\n",
       "      <td>3.4275</td>\n",
       "      <td>19.306</td>\n",
       "      <td>1049.9</td>\n",
       "      <td>545.85</td>\n",
       "      <td>10.583</td>\n",
       "      <td>4.9816</td>\n",
       "      <td>92.498</td>\n",
       "    </tr>\n",
       "  </tbody>\n",
       "</table>\n",
       "<p>15039 rows × 10 columns</p>\n",
       "</div>"
      ],
      "text/plain": [
       "           AT      AP      AH    AFDP    GTEP     TIT     TAT     CDP      CO  \\\n",
       "0      6.8594  1007.9  96.799  3.5000  19.663  1059.2  550.00  10.605  3.1547   \n",
       "1      6.7850  1008.4  97.118  3.4998  19.728  1059.3  550.00  10.598  3.2363   \n",
       "2      6.8977  1008.8  95.939  3.4824  19.779  1059.4  549.87  10.601  3.2012   \n",
       "3      7.0569  1009.2  95.249  3.4805  19.792  1059.6  549.99  10.606  3.1923   \n",
       "4      7.3978  1009.7  95.150  3.4976  19.765  1059.7  549.98  10.612  3.2484   \n",
       "...       ...     ...     ...     ...     ...     ...     ...     ...     ...   \n",
       "15034  9.0301  1005.6  98.460  3.5421  19.164  1049.7  546.21  10.400  4.5186   \n",
       "15035  7.8879  1005.9  99.093  3.5059  19.414  1046.3  543.22  10.433  4.8470   \n",
       "15036  7.2647  1006.3  99.496  3.4770  19.530  1037.7  537.32  10.483  7.9632   \n",
       "15037  7.0060  1006.8  99.008  3.4486  19.377  1043.2  541.24  10.533  6.2494   \n",
       "15038  6.9279  1007.2  97.533  3.4275  19.306  1049.9  545.85  10.583  4.9816   \n",
       "\n",
       "          NOX  \n",
       "0      82.722  \n",
       "1      82.776  \n",
       "2      82.468  \n",
       "3      82.670  \n",
       "4      82.311  \n",
       "...       ...  \n",
       "15034  79.559  \n",
       "15035  79.917  \n",
       "15036  90.912  \n",
       "15037  93.227  \n",
       "15038  92.498  \n",
       "\n",
       "[15039 rows x 10 columns]"
      ]
     },
     "execution_count": 9,
     "metadata": {},
     "output_type": "execute_result"
    }
   ],
   "source": [
    "x = gt.iloc[:,0:-1]\n",
    "x"
   ]
  },
  {
   "cell_type": "code",
   "execution_count": 10,
   "id": "6d0b822d",
   "metadata": {},
   "outputs": [
    {
     "data": {
      "text/plain": [
       "0        114.70\n",
       "1        114.72\n",
       "2        114.71\n",
       "3        114.72\n",
       "4        114.72\n",
       "          ...  \n",
       "15034    111.61\n",
       "15035    111.78\n",
       "15036    110.19\n",
       "15037    110.74\n",
       "15038    111.58\n",
       "Name: TEY, Length: 15039, dtype: float64"
      ]
     },
     "execution_count": 10,
     "metadata": {},
     "output_type": "execute_result"
    }
   ],
   "source": [
    "y = gt.iloc[:,-1]\n",
    "y"
   ]
  },
  {
   "cell_type": "code",
   "execution_count": 11,
   "id": "c7724e4b",
   "metadata": {},
   "outputs": [
    {
     "data": {
      "text/plain": [
       "(15039, 11)"
      ]
     },
     "execution_count": 11,
     "metadata": {},
     "output_type": "execute_result"
    }
   ],
   "source": [
    "gt.shape"
   ]
  },
  {
   "cell_type": "code",
   "execution_count": 12,
   "id": "61046c2a",
   "metadata": {},
   "outputs": [
    {
     "data": {
      "text/plain": [
       "AT      0\n",
       "AP      0\n",
       "AH      0\n",
       "AFDP    0\n",
       "GTEP    0\n",
       "TIT     0\n",
       "TAT     0\n",
       "CDP     0\n",
       "CO      0\n",
       "NOX     0\n",
       "TEY     0\n",
       "dtype: int64"
      ]
     },
     "execution_count": 12,
     "metadata": {},
     "output_type": "execute_result"
    }
   ],
   "source": [
    "gt.isna().sum()"
   ]
  },
  {
   "cell_type": "code",
   "execution_count": 13,
   "id": "0e677f3c",
   "metadata": {},
   "outputs": [],
   "source": [
    "from sklearn.model_selection import train_test_split"
   ]
  },
  {
   "cell_type": "code",
   "execution_count": 14,
   "id": "5e052313",
   "metadata": {},
   "outputs": [],
   "source": [
    "x_train,x_test,y_train,y_test = train_test_split(x,y,test_size=0.2,random_state=10)"
   ]
  },
  {
   "cell_type": "markdown",
   "id": "b9feed4c",
   "metadata": {},
   "source": [
    "# Creating Model"
   ]
  },
  {
   "cell_type": "code",
   "execution_count": 15,
   "id": "47c76d72",
   "metadata": {},
   "outputs": [],
   "source": [
    "model = tf.keras.models.Sequential()\n",
    "model.add(tf.keras.layers.Dense(15,input_dim=10,activation='ReLU'))\n",
    "model.add(tf.keras.layers.Dense(10,activation='ReLU'))\n",
    "model.add(tf.keras.layers.Dense(1,activation='ReLU'))"
   ]
  },
  {
   "cell_type": "code",
   "execution_count": 16,
   "id": "d1e6dc5a",
   "metadata": {},
   "outputs": [
    {
     "name": "stdout",
     "output_type": "stream",
     "text": [
      "Model: \"sequential\"\n",
      "_________________________________________________________________\n",
      " Layer (type)                Output Shape              Param #   \n",
      "=================================================================\n",
      " dense (Dense)               (None, 15)                165       \n",
      "                                                                 \n",
      " dense_1 (Dense)             (None, 10)                160       \n",
      "                                                                 \n",
      " dense_2 (Dense)             (None, 1)                 11        \n",
      "                                                                 \n",
      "=================================================================\n",
      "Total params: 336\n",
      "Trainable params: 336\n",
      "Non-trainable params: 0\n",
      "_________________________________________________________________\n"
     ]
    }
   ],
   "source": [
    "model.summary()"
   ]
  },
  {
   "cell_type": "code",
   "execution_count": 17,
   "id": "9f016cfb",
   "metadata": {},
   "outputs": [],
   "source": [
    "#Cpmpile model\n",
    "model.compile(loss='mse',optimizer='adam',metrics=['mse','mae'])"
   ]
  },
  {
   "cell_type": "code",
   "execution_count": 18,
   "id": "92d3865c",
   "metadata": {},
   "outputs": [
    {
     "name": "stdout",
     "output_type": "stream",
     "text": [
      "Epoch 1/50\n",
      "13/13 [==============================] - 2s 37ms/step - loss: 17322.2676 - mse: 17322.2676 - mae: 124.0746 - val_loss: 1693.3595 - val_mse: 1693.3595 - val_mae: 38.3650\n",
      "Epoch 2/50\n",
      "13/13 [==============================] - 0s 8ms/step - loss: 794.6937 - mse: 794.6937 - mae: 23.6914 - val_loss: 1551.2866 - val_mse: 1551.2866 - val_mae: 36.4772\n",
      "Epoch 3/50\n",
      "13/13 [==============================] - 0s 8ms/step - loss: 1096.5138 - mse: 1096.5138 - mae: 29.3862 - val_loss: 284.0052 - val_mse: 284.0052 - val_mae: 14.1857\n",
      "Epoch 4/50\n",
      "13/13 [==============================] - 0s 9ms/step - loss: 276.4466 - mse: 276.4466 - mae: 13.1609 - val_loss: 349.0791 - val_mse: 349.0791 - val_mae: 15.2442\n",
      "Epoch 5/50\n",
      "13/13 [==============================] - 0s 9ms/step - loss: 273.7860 - mse: 273.7860 - mae: 12.9157 - val_loss: 225.4487 - val_mse: 225.4487 - val_mae: 11.3348\n",
      "Epoch 6/50\n",
      "13/13 [==============================] - 0s 9ms/step - loss: 234.3208 - mse: 234.3208 - mae: 11.9120 - val_loss: 230.5738 - val_mse: 230.5738 - val_mae: 11.8269\n",
      "Epoch 7/50\n",
      "13/13 [==============================] - 0s 10ms/step - loss: 223.2247 - mse: 223.2247 - mae: 11.1347 - val_loss: 227.3271 - val_mse: 227.3271 - val_mae: 11.2233\n",
      "Epoch 8/50\n",
      "13/13 [==============================] - 0s 9ms/step - loss: 221.7413 - mse: 221.7413 - mae: 10.9660 - val_loss: 223.4732 - val_mse: 223.4732 - val_mae: 11.1886\n",
      "Epoch 9/50\n",
      "13/13 [==============================] - 0s 12ms/step - loss: 220.0164 - mse: 220.0164 - mae: 10.9688 - val_loss: 222.7598 - val_mse: 222.7598 - val_mae: 11.1774\n",
      "Epoch 10/50\n",
      "13/13 [==============================] - 0s 10ms/step - loss: 219.3242 - mse: 219.3242 - mae: 10.9336 - val_loss: 222.2942 - val_mse: 222.2942 - val_mae: 11.1367\n",
      "Epoch 11/50\n",
      "13/13 [==============================] - 0s 11ms/step - loss: 218.6748 - mse: 218.6748 - mae: 10.9036 - val_loss: 221.6386 - val_mse: 221.6386 - val_mae: 11.1144\n",
      "Epoch 12/50\n",
      "13/13 [==============================] - 0s 9ms/step - loss: 217.9270 - mse: 217.9270 - mae: 10.8970 - val_loss: 220.5736 - val_mse: 220.5736 - val_mae: 11.1108\n",
      "Epoch 13/50\n",
      "13/13 [==============================] - 0s 8ms/step - loss: 217.2270 - mse: 217.2270 - mae: 10.8642 - val_loss: 219.9835 - val_mse: 219.9835 - val_mae: 11.0765\n",
      "Epoch 14/50\n",
      "13/13 [==============================] - 0s 11ms/step - loss: 216.3317 - mse: 216.3317 - mae: 10.8735 - val_loss: 218.8864 - val_mse: 218.8864 - val_mae: 11.0754\n",
      "Epoch 15/50\n",
      "13/13 [==============================] - 0s 11ms/step - loss: 215.3636 - mse: 215.3636 - mae: 10.8336 - val_loss: 218.2520 - val_mse: 218.2520 - val_mae: 11.0321\n",
      "Epoch 16/50\n",
      "13/13 [==============================] - 0s 12ms/step - loss: 214.5784 - mse: 214.5784 - mae: 10.8065 - val_loss: 217.2599 - val_mse: 217.2599 - val_mae: 11.0146\n",
      "Epoch 17/50\n",
      "13/13 [==============================] - 0s 11ms/step - loss: 213.6120 - mse: 213.6120 - mae: 10.7804 - val_loss: 216.2739 - val_mse: 216.2739 - val_mae: 10.9961\n",
      "Epoch 18/50\n",
      "13/13 [==============================] - 0s 9ms/step - loss: 212.9044 - mse: 212.9044 - mae: 10.8086 - val_loss: 215.2730 - val_mse: 215.2730 - val_mae: 10.9718\n",
      "Epoch 19/50\n",
      "13/13 [==============================] - 0s 9ms/step - loss: 211.7339 - mse: 211.7339 - mae: 10.7256 - val_loss: 214.4488 - val_mse: 214.4488 - val_mae: 10.9371\n",
      "Epoch 20/50\n",
      "13/13 [==============================] - 0s 9ms/step - loss: 210.7769 - mse: 210.7769 - mae: 10.7373 - val_loss: 213.1865 - val_mse: 213.1865 - val_mae: 10.9382\n",
      "Epoch 21/50\n",
      "13/13 [==============================] - 0s 10ms/step - loss: 209.8470 - mse: 209.8470 - mae: 10.7287 - val_loss: 212.8573 - val_mse: 212.8573 - val_mae: 10.8750\n",
      "Epoch 22/50\n",
      "13/13 [==============================] - 0s 9ms/step - loss: 209.8260 - mse: 209.8260 - mae: 10.6705 - val_loss: 211.2145 - val_mse: 211.2145 - val_mae: 10.8661\n",
      "Epoch 23/50\n",
      "13/13 [==============================] - 0s 10ms/step - loss: 207.9426 - mse: 207.9426 - mae: 10.6977 - val_loss: 210.0524 - val_mse: 210.0524 - val_mae: 10.8512\n",
      "Epoch 24/50\n",
      "13/13 [==============================] - 0s 9ms/step - loss: 206.5146 - mse: 206.5146 - mae: 10.6042 - val_loss: 209.3999 - val_mse: 209.3999 - val_mae: 10.7928\n",
      "Epoch 25/50\n",
      "13/13 [==============================] - 0s 10ms/step - loss: 205.6360 - mse: 205.6360 - mae: 10.5696 - val_loss: 207.9294 - val_mse: 207.9294 - val_mae: 10.7869\n",
      "Epoch 26/50\n",
      "13/13 [==============================] - 0s 10ms/step - loss: 204.3662 - mse: 204.3662 - mae: 10.5585 - val_loss: 206.8289 - val_mse: 206.8289 - val_mae: 10.7530\n",
      "Epoch 27/50\n",
      "13/13 [==============================] - 0s 10ms/step - loss: 203.2739 - mse: 203.2739 - mae: 10.5286 - val_loss: 205.9692 - val_mse: 205.9692 - val_mae: 10.7086\n",
      "Epoch 28/50\n",
      "13/13 [==============================] - 0s 10ms/step - loss: 202.4380 - mse: 202.4380 - mae: 10.4826 - val_loss: 204.5923 - val_mse: 204.5923 - val_mae: 10.6928\n",
      "Epoch 29/50\n",
      "13/13 [==============================] - 0s 11ms/step - loss: 201.0089 - mse: 201.0089 - mae: 10.4791 - val_loss: 203.5905 - val_mse: 203.5905 - val_mae: 10.6496\n",
      "Epoch 30/50\n",
      "13/13 [==============================] - 0s 11ms/step - loss: 199.9685 - mse: 199.9685 - mae: 10.4198 - val_loss: 202.2326 - val_mse: 202.2326 - val_mae: 10.6375\n",
      "Epoch 31/50\n",
      "13/13 [==============================] - 0s 10ms/step - loss: 198.8480 - mse: 198.8480 - mae: 10.4419 - val_loss: 201.0629 - val_mse: 201.0629 - val_mae: 10.6143\n",
      "Epoch 32/50\n",
      "13/13 [==============================] - 0s 9ms/step - loss: 197.6342 - mse: 197.6342 - mae: 10.4087 - val_loss: 200.3467 - val_mse: 200.3467 - val_mae: 10.5506\n",
      "Epoch 33/50\n",
      "13/13 [==============================] - 0s 11ms/step - loss: 197.1497 - mse: 197.1497 - mae: 10.3435 - val_loss: 198.6275 - val_mse: 198.6275 - val_mae: 10.5566\n",
      "Epoch 34/50\n",
      "13/13 [==============================] - 0s 10ms/step - loss: 195.4026 - mse: 195.4026 - mae: 10.3547 - val_loss: 198.1189 - val_mse: 198.1189 - val_mae: 10.4855\n",
      "Epoch 35/50\n",
      "13/13 [==============================] - 0s 9ms/step - loss: 194.4403 - mse: 194.4403 - mae: 10.2728 - val_loss: 196.2421 - val_mse: 196.2421 - val_mae: 10.5227\n",
      "Epoch 36/50\n",
      "13/13 [==============================] - 0s 8ms/step - loss: 193.1092 - mse: 193.1092 - mae: 10.3012 - val_loss: 195.4850 - val_mse: 195.4850 - val_mae: 10.4203\n",
      "Epoch 37/50\n",
      "13/13 [==============================] - 0s 9ms/step - loss: 191.7763 - mse: 191.7763 - mae: 10.2096 - val_loss: 193.7541 - val_mse: 193.7541 - val_mae: 10.4123\n",
      "Epoch 38/50\n",
      "13/13 [==============================] - 0s 9ms/step - loss: 190.2388 - mse: 190.2388 - mae: 10.1889 - val_loss: 193.3065 - val_mse: 193.3065 - val_mae: 10.3535\n",
      "Epoch 39/50\n",
      "13/13 [==============================] - 0s 9ms/step - loss: 189.3570 - mse: 189.3570 - mae: 10.1402 - val_loss: 191.3244 - val_mse: 191.3244 - val_mae: 10.3340\n",
      "Epoch 40/50\n",
      "13/13 [==============================] - 0s 8ms/step - loss: 187.7821 - mse: 187.7821 - mae: 10.1106 - val_loss: 189.9906 - val_mse: 189.9906 - val_mae: 10.3203\n",
      "Epoch 41/50\n",
      "13/13 [==============================] - 0s 8ms/step - loss: 186.8293 - mse: 186.8293 - mae: 10.1132 - val_loss: 188.8478 - val_mse: 188.8478 - val_mae: 10.2610\n",
      "Epoch 42/50\n",
      "13/13 [==============================] - 0s 8ms/step - loss: 185.3793 - mse: 185.3793 - mae: 10.0766 - val_loss: 187.5160 - val_mse: 187.5160 - val_mae: 10.2254\n",
      "Epoch 43/50\n",
      "13/13 [==============================] - 0s 8ms/step - loss: 183.9536 - mse: 183.9536 - mae: 10.0179 - val_loss: 186.0819 - val_mse: 186.0819 - val_mae: 10.2021\n",
      "Epoch 44/50\n",
      "13/13 [==============================] - 0s 9ms/step - loss: 182.6390 - mse: 182.6390 - mae: 9.9978 - val_loss: 184.8170 - val_mse: 184.8170 - val_mae: 10.1513\n",
      "Epoch 45/50\n",
      "13/13 [==============================] - 0s 8ms/step - loss: 181.2214 - mse: 181.2214 - mae: 9.9410 - val_loss: 183.4525 - val_mse: 183.4525 - val_mae: 10.1202\n",
      "Epoch 46/50\n",
      "13/13 [==============================] - 0s 9ms/step - loss: 179.9767 - mse: 179.9767 - mae: 9.9019 - val_loss: 182.1369 - val_mse: 182.1369 - val_mae: 10.0865\n",
      "Epoch 47/50\n",
      "13/13 [==============================] - 0s 9ms/step - loss: 178.6388 - mse: 178.6388 - mae: 9.8656 - val_loss: 180.9157 - val_mse: 180.9157 - val_mae: 10.0356\n",
      "Epoch 48/50\n"
     ]
    },
    {
     "name": "stdout",
     "output_type": "stream",
     "text": [
      "13/13 [==============================] - 0s 9ms/step - loss: 177.3454 - mse: 177.3454 - mae: 9.8188 - val_loss: 179.3904 - val_mse: 179.3904 - val_mae: 10.0258\n",
      "Epoch 49/50\n",
      "13/13 [==============================] - 0s 9ms/step - loss: 176.0927 - mse: 176.0927 - mae: 9.7967 - val_loss: 178.0742 - val_mse: 178.0742 - val_mae: 9.9738\n",
      "Epoch 50/50\n",
      "13/13 [==============================] - 0s 9ms/step - loss: 174.6296 - mse: 174.6296 - mae: 9.7563 - val_loss: 176.7139 - val_mse: 176.7139 - val_mae: 9.9591\n"
     ]
    }
   ],
   "source": [
    "#Fit the model\n",
    "history = model.fit(x_train,y_train,validation_data=(x_test,y_test),epochs=50,batch_size=1000)"
   ]
  },
  {
   "cell_type": "code",
   "execution_count": 19,
   "id": "9f047132",
   "metadata": {},
   "outputs": [],
   "source": [
    "model.save_weights(\"mywt.kmw\")"
   ]
  },
  {
   "cell_type": "code",
   "execution_count": 20,
   "id": "94d1a266",
   "metadata": {},
   "outputs": [
    {
     "name": "stdout",
     "output_type": "stream",
     "text": [
      "376/376 [==============================] - 1s 3ms/step - loss: 173.9853 - mse: 173.9853 - mae: 9.7657\n",
      "mse: 17398.53%\n"
     ]
    }
   ],
   "source": [
    "#evaluate the model\n",
    "scores = model.evaluate(x_train,y_train)\n",
    "print(\"%s: %.2f%%\" % (model.metrics_names[1], scores[1]*100))"
   ]
  },
  {
   "cell_type": "code",
   "execution_count": 21,
   "id": "64d7582d",
   "metadata": {},
   "outputs": [],
   "source": [
    "#Visualize training history\n",
    "#list all data in history\n",
    "\n",
    "model.history.history.keys()\n",
    "import matplotlib.pyplot as plt"
   ]
  },
  {
   "cell_type": "code",
   "execution_count": 22,
   "id": "5594fb86",
   "metadata": {},
   "outputs": [
    {
     "data": {
      "text/plain": [
       "dict_keys(['loss', 'mse', 'mae', 'val_loss', 'val_mse', 'val_mae'])"
      ]
     },
     "execution_count": 22,
     "metadata": {},
     "output_type": "execute_result"
    }
   ],
   "source": [
    "history.history.keys()"
   ]
  },
  {
   "cell_type": "code",
   "execution_count": 23,
   "id": "c43ffe52",
   "metadata": {},
   "outputs": [
    {
     "data": {
      "image/png": "[encoded data removed]",
      "text/plain": [
       "<Figure size 432x288 with 1 Axes>"
      ]
     },
     "metadata": {
      "needs_background": "light"
     },
     "output_type": "display_data"
    }
   ],
   "source": [
    "plt.plot(history.history['mse'])\n",
    "plt.plot(history.history['val_mse'])\n",
    "plt.title('model mse')\n",
    "plt.ylabel('mse')\n",
    "plt.xlabel('epoch')\n",
    "plt.legend(['train','test'],loc='upper left')\n",
    "plt.show()"
   ]
  },
  {
   "cell_type": "code",
   "execution_count": 24,
   "id": "add2bf5d",
   "metadata": {},
   "outputs": [
    {
     "data": {
      "image/png": "[encoded data removed]",
      "text/plain": [
       "<Figure size 432x288 with 1 Axes>"
      ]
     },
     "metadata": {
      "needs_background": "light"
     },
     "output_type": "display_data"
    }
   ],
   "source": [
    "plt.plot(history.history['mae'])\n",
    "plt.plot(history.history['val_mae'])\n",
    "plt.title('model mae')\n",
    "plt.ylabel('mae')\n",
    "plt.xlabel('epoch')\n",
    "plt.legend(['train', 'test'], loc='upper left')\n",
    "plt.show()"
   ]
  },
  {
   "cell_type": "code",
   "execution_count": 25,
   "id": "191eb4ea",
   "metadata": {},
   "outputs": [
    {
     "data": {
      "image/png": "[encoded data removed]",
      "text/plain": [
       "<Figure size 432x288 with 1 Axes>"
      ]
     },
     "metadata": {
      "needs_background": "light"
     },
     "output_type": "display_data"
    }
   ],
   "source": [
    "# summarize history for loss\n",
    "plt.plot(history.history['loss'])\n",
    "plt.plot(history.history['val_loss'])\n",
    "plt.title('model loss')\n",
    "plt.ylabel('loss')\n",
    "plt.xlabel('epoch')\n",
    "plt.legend(['train', 'test'], loc='upper left')\n",
    "plt.show()"
   ]
  },
  {
   "cell_type": "code",
   "execution_count": 26,
   "id": "7d3f47ce",
   "metadata": {},
   "outputs": [
    {
     "name": "stdout",
     "output_type": "stream",
     "text": [
      "376/376 [==============================] - 1s 2ms/step\n",
      "94/94 [==============================] - 0s 2ms/step\n",
      "Training set rmse: 13.190, Testing set rmse: 13.293\n"
     ]
    }
   ],
   "source": [
    "# evaluate the model\n",
    "\n",
    "y_train_pred = model.predict(x_train)\n",
    "y_test_pred = model.predict(x_test)\n",
    "\n",
    "from sklearn.metrics import mean_squared_error\n",
    "\n",
    "train_rmse = mean_squared_error(y_train,y_train_pred,squared=False)\n",
    "test_rmse = mean_squared_error(y_test,y_test_pred,squared=False)\n",
    "\n",
    "print('Training set rmse: %.3f, Testing set rmse: %.3f' % (train_rmse,test_rmse))"
   ]
  },
  {
   "cell_type": "markdown",
   "id": "36e2cca8",
   "metadata": {},
   "source": [
    "# Randomzied SearchCV"
   ]
  },
  {
   "cell_type": "code",
   "execution_count": 27,
   "id": "ccc2fd86",
   "metadata": {},
   "outputs": [],
   "source": [
    "from sklearn.model_selection import RandomizedSearchCV, KFold\n",
    "from keras.optimizers import Adam\n",
    "from keras.wrappers.scikit_learn import KerasRegressor"
   ]
  },
  {
   "cell_type": "code",
   "execution_count": 28,
   "id": "88a1e6d6",
   "metadata": {},
   "outputs": [],
   "source": [
    "# Building a keras regression model\n",
    "\n",
    "def keras_reg_model(learning_rate,activation_function,init,neuron1,neuron2):\n",
    "    model = tf.keras.models.Sequential()\n",
    "    model.add(tf.keras.layers.Dense(neuron1,input_dim = 10,kernel_initializer = init,activation = activation_function))\n",
    "    model.add(tf.keras.layers.Dense(neuron2,input_dim = neuron1,kernel_initializer = init,activation = activation_function))\n",
    "    model.add(tf.keras.layers.Dense(1,activation = 'linear'))\n",
    "    adam = Adam(lr = learning_rate)\n",
    "    model.compile(loss = 'mse',optimizer = adam,metrics = ['mse','mae'])\n",
    "    return model"
   ]
  },
  {
   "cell_type": "code",
   "execution_count": 29,
   "id": "8a290320",
   "metadata": {},
   "outputs": [],
   "source": [
    "# Wrapping the keras model in a object\n",
    "\n",
    "keras_reg = KerasRegressor(build_fn = keras_reg_model,verbose = 0)"
   ]
  },
  {
   "cell_type": "code",
   "execution_count": 30,
   "id": "c83459f0",
   "metadata": {},
   "outputs": [
    {
     "name": "stdout",
     "output_type": "stream",
     "text": [
      "Fitting 5 folds for each of 10 candidates, totalling 50 fits\n"
     ]
    }
   ],
   "source": [
    "# Define the search parameters\n",
    "\n",
    "batch_size = [10,50,100,500,1000,2000]\n",
    "epochs = [25,50,80,100,150]\n",
    "learning_rate = [0.001,0.01,0.1]\n",
    "\n",
    "activation_function = ['elu','relu','linear']\n",
    "init = ['uniform','normal','zero']\n",
    "neuron1 = [5,10,20,30]\n",
    "neuron2 = [5,10,20,30]\n",
    "\n",
    "\n",
    "# Create a dictionary of the parameters\n",
    "param_grids = dict(batch_size = batch_size,epochs = epochs,learning_rate = learning_rate,\n",
    "                   activation_function = activation_function,init = init,neuron1 = neuron1,neuron2 = neuron2)\n",
    "\n",
    "\n",
    "# Build and fit the RandomizedSearchCV\n",
    "random_search = RandomizedSearchCV(estimator = keras_reg,param_distributions = param_grids,cv = 5,n_jobs=-1,verbose = 10,\n",
    "                                   random_state=40)\n",
    "random_result = random_search.fit(x_train,y_train)"
   ]
  },
  {
   "cell_type": "code",
   "execution_count": 31,
   "id": "6b48c4fe",
   "metadata": {},
   "outputs": [
    {
     "name": "stdout",
     "output_type": "stream",
     "text": [
      "Best score: -3.6706454753875732\n",
      "Best parameters: {'neuron2': 30, 'neuron1': 10, 'learning_rate': 0.001, 'init': 'normal', 'epochs': 50, 'batch_size': 100, 'activation_function': 'relu'}\n"
     ]
    }
   ],
   "source": [
    "# Summarize the results\n",
    "print('Best score:',random_result.best_score_)\n",
    "print('Best parameters:',random_result.best_params_)"
   ]
  },
  {
   "cell_type": "code",
   "execution_count": 32,
   "id": "9800efcc",
   "metadata": {},
   "outputs": [
    {
     "name": "stdout",
     "output_type": "stream",
     "text": [
      "Epoch 1/50\n",
      "121/121 [==============================] - 2s 6ms/step - loss: 2136.2185 - mse: 2136.2185 - mae: 29.6662 - val_loss: 230.1872 - val_mse: 230.1872 - val_mae: 11.0843\n",
      "Epoch 2/50\n",
      "121/121 [==============================] - 0s 4ms/step - loss: 226.7312 - mse: 226.7312 - mae: 10.7973 - val_loss: 224.3322 - val_mse: 224.3322 - val_mae: 10.9341\n",
      "Epoch 3/50\n",
      "121/121 [==============================] - 0s 4ms/step - loss: 220.5946 - mse: 220.5946 - mae: 10.7301 - val_loss: 216.7113 - val_mse: 216.7113 - val_mae: 10.5607\n",
      "Epoch 4/50\n",
      "121/121 [==============================] - 0s 4ms/step - loss: 212.1826 - mse: 212.1826 - mae: 10.4698 - val_loss: 209.4871 - val_mse: 209.4871 - val_mae: 10.7501\n",
      "Epoch 5/50\n",
      "121/121 [==============================] - 0s 4ms/step - loss: 203.2837 - mse: 203.2837 - mae: 10.2924 - val_loss: 199.9893 - val_mse: 199.9893 - val_mae: 10.0601\n",
      "Epoch 6/50\n",
      "121/121 [==============================] - 0s 4ms/step - loss: 194.0307 - mse: 194.0307 - mae: 10.1175 - val_loss: 188.2592 - val_mse: 188.2592 - val_mae: 9.7881\n",
      "Epoch 7/50\n",
      "121/121 [==============================] - 0s 4ms/step - loss: 181.8416 - mse: 181.8416 - mae: 9.8060 - val_loss: 181.8846 - val_mse: 181.8846 - val_mae: 10.6113\n",
      "Epoch 8/50\n",
      "121/121 [==============================] - 0s 4ms/step - loss: 169.0514 - mse: 169.0514 - mae: 9.4896 - val_loss: 161.6240 - val_mse: 161.6240 - val_mae: 9.2077\n",
      "Epoch 9/50\n",
      "121/121 [==============================] - 0s 4ms/step - loss: 152.8726 - mse: 152.8726 - mae: 9.0278 - val_loss: 148.0771 - val_mse: 148.0771 - val_mae: 9.4817\n",
      "Epoch 10/50\n",
      "121/121 [==============================] - 0s 4ms/step - loss: 136.1688 - mse: 136.1689 - mae: 8.6741 - val_loss: 125.2818 - val_mse: 125.2818 - val_mae: 8.0732\n",
      "Epoch 11/50\n",
      "121/121 [==============================] - 0s 4ms/step - loss: 114.1447 - mse: 114.1447 - mae: 7.9462 - val_loss: 106.8959 - val_mse: 106.8959 - val_mae: 8.2876\n",
      "Epoch 12/50\n",
      "121/121 [==============================] - 0s 4ms/step - loss: 90.7696 - mse: 90.7696 - mae: 7.1403 - val_loss: 78.4115 - val_mse: 78.4115 - val_mae: 6.7641\n",
      "Epoch 13/50\n",
      "121/121 [==============================] - 0s 4ms/step - loss: 67.8998 - mse: 67.8998 - mae: 6.2586 - val_loss: 55.3452 - val_mse: 55.3452 - val_mae: 5.5843\n",
      "Epoch 14/50\n",
      "121/121 [==============================] - 0s 4ms/step - loss: 47.4193 - mse: 47.4193 - mae: 5.2162 - val_loss: 37.0191 - val_mse: 37.0191 - val_mae: 4.7443\n",
      "Epoch 15/50\n",
      "121/121 [==============================] - 0s 4ms/step - loss: 31.8952 - mse: 31.8952 - mae: 4.3084 - val_loss: 25.3629 - val_mse: 25.3629 - val_mae: 3.9576\n",
      "Epoch 16/50\n",
      "121/121 [==============================] - 0s 4ms/step - loss: 21.7951 - mse: 21.7951 - mae: 3.5103 - val_loss: 17.4013 - val_mse: 17.4013 - val_mae: 3.2195\n",
      "Epoch 17/50\n",
      "121/121 [==============================] - 0s 4ms/step - loss: 16.1726 - mse: 16.1726 - mae: 2.9765 - val_loss: 13.4723 - val_mse: 13.4723 - val_mae: 2.7918\n",
      "Epoch 18/50\n",
      "121/121 [==============================] - 0s 4ms/step - loss: 13.6235 - mse: 13.6235 - mae: 2.6735 - val_loss: 11.0893 - val_mse: 11.0893 - val_mae: 2.4687\n",
      "Epoch 19/50\n",
      "121/121 [==============================] - 0s 4ms/step - loss: 12.1972 - mse: 12.1972 - mae: 2.5060 - val_loss: 10.0972 - val_mse: 10.0972 - val_mae: 2.3686\n",
      "Epoch 20/50\n",
      "121/121 [==============================] - 1s 4ms/step - loss: 10.6306 - mse: 10.6306 - mae: 2.3137 - val_loss: 10.0483 - val_mse: 10.0483 - val_mae: 2.3702\n",
      "Epoch 21/50\n",
      "121/121 [==============================] - 0s 4ms/step - loss: 9.2926 - mse: 9.2926 - mae: 2.1422 - val_loss: 7.6892 - val_mse: 7.6892 - val_mae: 2.0078\n",
      "Epoch 22/50\n",
      "121/121 [==============================] - 0s 4ms/step - loss: 8.3579 - mse: 8.3579 - mae: 2.0243 - val_loss: 7.3420 - val_mse: 7.3420 - val_mae: 1.9823\n",
      "Epoch 23/50\n",
      "121/121 [==============================] - 0s 4ms/step - loss: 7.7973 - mse: 7.7973 - mae: 1.9673 - val_loss: 6.3317 - val_mse: 6.3317 - val_mae: 1.8132\n",
      "Epoch 24/50\n",
      "121/121 [==============================] - 0s 4ms/step - loss: 6.8878 - mse: 6.8878 - mae: 1.8414 - val_loss: 6.1168 - val_mse: 6.1168 - val_mae: 1.8058\n",
      "Epoch 25/50\n",
      "121/121 [==============================] - 0s 4ms/step - loss: 6.4822 - mse: 6.4822 - mae: 1.8082 - val_loss: 5.4465 - val_mse: 5.4465 - val_mae: 1.6938\n",
      "Epoch 26/50\n",
      "121/121 [==============================] - 0s 4ms/step - loss: 5.7149 - mse: 5.7149 - mae: 1.6887 - val_loss: 5.6365 - val_mse: 5.6365 - val_mae: 1.7731\n",
      "Epoch 27/50\n",
      "121/121 [==============================] - 0s 4ms/step - loss: 5.4439 - mse: 5.4439 - mae: 1.6725 - val_loss: 5.4250 - val_mse: 5.4250 - val_mae: 1.7527\n",
      "Epoch 28/50\n",
      "121/121 [==============================] - 0s 4ms/step - loss: 4.8572 - mse: 4.8572 - mae: 1.5774 - val_loss: 4.1614 - val_mse: 4.1614 - val_mae: 1.4871\n",
      "Epoch 29/50\n",
      "121/121 [==============================] - 0s 4ms/step - loss: 4.4242 - mse: 4.4242 - mae: 1.5071 - val_loss: 4.3242 - val_mse: 4.3242 - val_mae: 1.5513\n",
      "Epoch 30/50\n",
      "121/121 [==============================] - 0s 4ms/step - loss: 4.2003 - mse: 4.2003 - mae: 1.4783 - val_loss: 3.6219 - val_mse: 3.6219 - val_mae: 1.3956\n",
      "Epoch 31/50\n",
      "121/121 [==============================] - 0s 4ms/step - loss: 3.8424 - mse: 3.8424 - mae: 1.4239 - val_loss: 3.4549 - val_mse: 3.4549 - val_mae: 1.3621\n",
      "Epoch 32/50\n",
      "121/121 [==============================] - 0s 4ms/step - loss: 3.5935 - mse: 3.5935 - mae: 1.3816 - val_loss: 3.2262 - val_mse: 3.2262 - val_mae: 1.3205\n",
      "Epoch 33/50\n",
      "121/121 [==============================] - 0s 4ms/step - loss: 3.6077 - mse: 3.6077 - mae: 1.4027 - val_loss: 3.9197 - val_mse: 3.9197 - val_mae: 1.5307\n",
      "Epoch 34/50\n",
      "121/121 [==============================] - 0s 4ms/step - loss: 3.3042 - mse: 3.3042 - mae: 1.3395 - val_loss: 3.7690 - val_mse: 3.7690 - val_mae: 1.4771\n",
      "Epoch 35/50\n",
      "121/121 [==============================] - 0s 4ms/step - loss: 3.2078 - mse: 3.2078 - mae: 1.3333 - val_loss: 5.0104 - val_mse: 5.0104 - val_mae: 1.8084\n",
      "Epoch 36/50\n",
      "121/121 [==============================] - 0s 4ms/step - loss: 3.1775 - mse: 3.1775 - mae: 1.3311 - val_loss: 3.0796 - val_mse: 3.0796 - val_mae: 1.3474\n",
      "Epoch 37/50\n",
      "121/121 [==============================] - 0s 4ms/step - loss: 2.9862 - mse: 2.9862 - mae: 1.2925 - val_loss: 2.6698 - val_mse: 2.6698 - val_mae: 1.2113\n",
      "Epoch 38/50\n",
      "121/121 [==============================] - 0s 4ms/step - loss: 2.7908 - mse: 2.7908 - mae: 1.2513 - val_loss: 2.4823 - val_mse: 2.4823 - val_mae: 1.1739\n",
      "Epoch 39/50\n",
      "121/121 [==============================] - 0s 4ms/step - loss: 2.6543 - mse: 2.6543 - mae: 1.2237 - val_loss: 2.6441 - val_mse: 2.6441 - val_mae: 1.2121\n",
      "Epoch 40/50\n",
      "121/121 [==============================] - 0s 4ms/step - loss: 2.5433 - mse: 2.5433 - mae: 1.2004 - val_loss: 3.9464 - val_mse: 3.9464 - val_mae: 1.5744\n",
      "Epoch 41/50\n",
      "121/121 [==============================] - 0s 4ms/step - loss: 2.7749 - mse: 2.7749 - mae: 1.2723 - val_loss: 2.6627 - val_mse: 2.6627 - val_mae: 1.2241\n",
      "Epoch 42/50\n",
      "121/121 [==============================] - 0s 4ms/step - loss: 2.4038 - mse: 2.4038 - mae: 1.1701 - val_loss: 2.3446 - val_mse: 2.3446 - val_mae: 1.1387\n",
      "Epoch 43/50\n",
      "121/121 [==============================] - 0s 4ms/step - loss: 2.4120 - mse: 2.4120 - mae: 1.1745 - val_loss: 3.0635 - val_mse: 3.0635 - val_mae: 1.3991\n",
      "Epoch 44/50\n",
      "121/121 [==============================] - 0s 4ms/step - loss: 2.4527 - mse: 2.4527 - mae: 1.1909 - val_loss: 2.1428 - val_mse: 2.1428 - val_mae: 1.1087\n",
      "Epoch 45/50\n",
      "121/121 [==============================] - 0s 4ms/step - loss: 2.2533 - mse: 2.2533 - mae: 1.1327 - val_loss: 2.0415 - val_mse: 2.0415 - val_mae: 1.0682\n",
      "Epoch 46/50\n",
      "121/121 [==============================] - 0s 4ms/step - loss: 2.1364 - mse: 2.1364 - mae: 1.1050 - val_loss: 1.9979 - val_mse: 1.9979 - val_mae: 1.0639\n",
      "Epoch 47/50\n",
      "121/121 [==============================] - 0s 4ms/step - loss: 2.1355 - mse: 2.1355 - mae: 1.1064 - val_loss: 2.1126 - val_mse: 2.1126 - val_mae: 1.1177\n",
      "Epoch 48/50\n",
      "121/121 [==============================] - 0s 4ms/step - loss: 2.0746 - mse: 2.0746 - mae: 1.0927 - val_loss: 2.6260 - val_mse: 2.6260 - val_mae: 1.2939\n",
      "Epoch 49/50\n",
      "121/121 [==============================] - 0s 4ms/step - loss: 2.1356 - mse: 2.1356 - mae: 1.1134 - val_loss: 1.8767 - val_mse: 1.8767 - val_mae: 1.0207\n"
     ]
    },
    {
     "name": "stdout",
     "output_type": "stream",
     "text": [
      "Epoch 50/50\n",
      "121/121 [==============================] - 0s 4ms/step - loss: 2.0804 - mse: 2.0804 - mae: 1.0956 - val_loss: 2.1632 - val_mse: 2.1632 - val_mae: 1.1049\n"
     ]
    }
   ],
   "source": [
    "## storing the best parameters in a variable\n",
    "## fitting the model with best parameters\n",
    "\n",
    "d1= random_result.best_params_\n",
    "\n",
    "keras_tuned=keras_reg_model(learning_rate=d1['learning_rate'],activation_function=d1['activation_function'],init=d1['init'],\n",
    "                                                                                       neuron1=d1['neuron1'],neuron2=d1['neuron2'])\n",
    "\n",
    "# Training and evaluating the model\n",
    "history2=keras_tuned.fit(x_train, y_train, validation_data=(x_test,y_test),\n",
    "                         epochs =d1['epochs'], batch_size=d1['batch_size'])"
   ]
  },
  {
   "cell_type": "code",
   "execution_count": 33,
   "id": "d3f3545f",
   "metadata": {},
   "outputs": [
    {
     "name": "stdout",
     "output_type": "stream",
     "text": [
      "376/376 [==============================] - 1s 2ms/step\n",
      "94/94 [==============================] - 0s 2ms/step\n",
      "Training set rmse : 1.457, Testing set rmse: 1.471\n"
     ]
    }
   ],
   "source": [
    "# evaluate the model\n",
    "\n",
    "y_train_pred_tuned= keras_tuned.predict(x_train)\n",
    "y_test_pred_tuned= keras_tuned.predict(x_test)\n",
    "\n",
    "from sklearn.metrics import mean_squared_error\n",
    "\n",
    "train_rmse_tuned = mean_squared_error(y_train,y_train_pred_tuned,squared=False)\n",
    "test_rmse_tuned = mean_squared_error(y_test, y_test_pred_tuned,squared=False)\n",
    "\n",
    "print('Training set rmse : %.3f, Testing set rmse: %.3f' % (train_rmse_tuned, test_rmse_tuned))"
   ]
  },
  {
   "cell_type": "code",
   "execution_count": 34,
   "id": "f98fd982",
   "metadata": {},
   "outputs": [
    {
     "data": {
      "text/html": [
       "<div>\n",
       "<style scoped>\n",
       "    .dataframe tbody tr th:only-of-type {\n",
       "        vertical-align: middle;\n",
       "    }\n",
       "\n",
       "    .dataframe tbody tr th {\n",
       "        vertical-align: top;\n",
       "    }\n",
       "\n",
       "    .dataframe thead th {\n",
       "        text-align: right;\n",
       "    }\n",
       "</style>\n",
       "<table border=\"1\" class=\"dataframe\">\n",
       "  <thead>\n",
       "    <tr style=\"text-align: right;\">\n",
       "      <th></th>\n",
       "      <th>models</th>\n",
       "      <th>train rmse</th>\n",
       "      <th>test rmse</th>\n",
       "    </tr>\n",
       "  </thead>\n",
       "  <tbody>\n",
       "    <tr>\n",
       "      <th>0</th>\n",
       "      <td>base model</td>\n",
       "      <td>13.190349</td>\n",
       "      <td>13.293377</td>\n",
       "    </tr>\n",
       "    <tr>\n",
       "      <th>1</th>\n",
       "      <td>tuned model</td>\n",
       "      <td>1.457417</td>\n",
       "      <td>1.470798</td>\n",
       "    </tr>\n",
       "  </tbody>\n",
       "</table>\n",
       "</div>"
      ],
      "text/plain": [
       "        models  train rmse  test rmse\n",
       "0   base model   13.190349  13.293377\n",
       "1  tuned model    1.457417   1.470798"
      ]
     },
     "execution_count": 34,
     "metadata": {},
     "output_type": "execute_result"
    }
   ],
   "source": [
    "result=pd.DataFrame({'models':['base model','tuned model'],'train rmse':[train_rmse,train_rmse_tuned],\n",
    "                     'test rmse':[test_rmse,test_rmse_tuned]})\n",
    "result"
   ]
  },
  {
   "cell_type": "markdown",
   "id": "92a27890",
   "metadata": {},
   "source": [
    "For both base model and tuned model, the difference between rmse for train and test set is very low indicating almost no overfitting.\n",
    "\n",
    "For tuned model,the rmse has decreased compared to base model suggesting that hypertuning parameters has increased the efficiency of this regression model"
   ]
  }
 ],
 "metadata": {
  "kernelspec": {
   "display_name": "Python 3 (ipykernel)",
   "language": "python",
   "name": "python3"
  },
  "language_info": {
   "codemirror_mode": {
    "name": "ipython",
    "version": 3
   },
   "file_extension": ".py",
   "mimetype": "text/x-python",
   "name": "python",
   "nbconvert_exporter": "python",
   "pygments_lexer": "ipython3",
   "version": "3.9.12"
  }
 },
 "nbformat": 4,
 "nbformat_minor": 5
}
